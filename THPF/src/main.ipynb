{
 "cells": [
  {
   "cell_type": "raw",
   "id": "708efa9c",
   "metadata": {},
   "source": [
    "---\n",
    "execute:\n",
    "    echo: false\n",
    "    warning: false\n",
    "    \n",
    "format:\n",
    "    html:\n",
    "        theme: \"theme_ipol.scss\"\n",
    "        self-contained: true\n",
    "---"
   ]
  },
  {
   "cell_type": "code",
   "execution_count": 1,
   "id": "100c298a",
   "metadata": {
    "tags": [
     "parameters"
    ]
   },
   "outputs": [],
   "source": [
    "# This cell contains the parameters. It should have the tag \"parameters\"\n",
    "SRCDIR = \".\"\n",
    "DATA_RANGE = 255\n",
    "NOISE_LEVEL = 10\n",
    "NOISE_LEVEL_SIGNAL = .10\n",
    "noise_type_structured = True\n",
    "noise_type_unstructured = True\n",
    "noise_type_structured_signal = True\n",
    "noise_type_unstructured_signal = True\n",
    "add_noise = True\n",
    "SIZE = 3\n",
    "THRES = 200\n",
    "kernel = \"bilateral\"\n",
    "M = 10"
   ]
  },
  {
   "cell_type": "code",
   "execution_count": 2,
   "id": "a2852df3",
   "metadata": {},
   "outputs": [],
   "source": [
    "import imageio\n",
    "import tarfile\n",
    "import numpy as np\n",
    "import seaborn as sns\n",
    "import os\n",
    "import skimage\n",
    "import skimage.io as io\n",
    "from IPython.display import display, Image\n",
    "import scipy\n",
    "from scipy import signal\n",
    "from scipy.signal import fftconvolve\n",
    "from zipfile import ZipFile"
   ]
  },
  {
   "cell_type": "code",
   "execution_count": null,
   "id": "34fe0ea9",
   "metadata": {},
   "outputs": [],
   "source": []
  },
  {
   "cell_type": "code",
   "execution_count": 3,
   "id": "f1d8956e",
   "metadata": {},
   "outputs": [
    {
     "name": "stdout",
     "output_type": "stream",
     "text": [
      "File Name                                             Modified             Size\n",
      "00000.jpg                                      2016-08-03 11:32:22       115360\n",
      "00001.jpg                                      2016-08-03 11:32:22       108764\n",
      "00002.jpg                                      2016-08-03 11:32:22       111677\n",
      "00003.jpg                                      2016-08-03 11:32:22       105974\n",
      "00004.jpg                                      2016-08-03 11:32:22       106208\n",
      "00005.jpg                                      2016-08-03 11:32:22       102985\n",
      "00006.jpg                                      2016-08-03 11:32:22       101478\n",
      "00007.jpg                                      2016-08-03 11:32:22       113109\n",
      "00008.jpg                                      2016-08-03 11:32:22       116155\n",
      "00009.jpg                                      2016-08-03 11:32:22       116499\n",
      "00010.jpg                                      2016-08-03 11:32:22       117267\n",
      "00011.jpg                                      2016-08-03 11:32:22       118905\n",
      "00012.jpg                                      2016-08-03 11:32:22       118038\n",
      "00013.jpg                                      2016-08-03 11:32:22       118451\n",
      "00014.jpg                                      2016-08-03 11:32:22       118768\n",
      "00015.jpg                                      2016-08-03 11:32:22       119505\n",
      "00016.jpg                                      2016-08-03 11:32:22       120918\n",
      "00017.jpg                                      2016-08-03 11:32:22       100922\n",
      "00018.jpg                                      2016-08-03 11:32:22       106760\n",
      "00019.jpg                                      2016-08-03 11:32:22       111191\n",
      "00020.jpg                                      2016-08-03 11:32:22       119222\n",
      "00021.jpg                                      2016-08-03 11:32:22       119660\n",
      "00022.jpg                                      2016-08-03 11:32:22       121084\n",
      "00023.jpg                                      2016-08-03 11:32:22       121084\n",
      "00024.jpg                                      2016-08-03 11:32:22       120243\n",
      "00025.jpg                                      2016-08-03 11:32:22       125113\n",
      "00026.jpg                                      2016-08-03 11:32:22       120197\n",
      "00027.jpg                                      2016-08-03 11:32:22       121820\n",
      "00028.jpg                                      2016-08-03 11:32:22       122481\n",
      "00029.jpg                                      2016-08-03 11:32:22       118669\n",
      "00030.jpg                                      2016-08-03 11:32:22       115993\n",
      "00031.jpg                                      2016-08-03 11:32:22       120406\n",
      "00032.jpg                                      2016-08-03 11:32:22       102220\n",
      "00033.jpg                                      2016-08-03 11:32:22       121101\n",
      "00034.jpg                                      2016-08-03 11:32:22       119209\n",
      "00035.jpg                                      2016-08-03 11:32:22       109840\n",
      "00036.jpg                                      2016-08-03 11:32:22       108638\n",
      "00037.jpg                                      2016-08-03 11:32:22        97966\n",
      "00038.jpg                                      2016-08-03 11:32:22        96151\n",
      "00039.jpg                                      2016-08-03 11:32:22       114250\n",
      "00040.jpg                                      2016-08-03 11:32:22       118412\n",
      "00041.jpg                                      2016-08-03 11:32:22       113297\n",
      "00042.jpg                                      2016-08-03 11:32:22       112214\n",
      "00043.jpg                                      2016-08-03 11:32:22       115170\n",
      "00044.jpg                                      2016-08-03 11:32:22       104693\n",
      "00045.jpg                                      2016-08-03 11:32:22       107227\n",
      "00046.jpg                                      2016-08-03 11:32:22       124999\n",
      "00047.jpg                                      2016-08-03 11:32:22       109628\n",
      "00048.jpg                                      2016-08-03 11:32:22       106230\n",
      "00049.jpg                                      2016-08-03 11:32:22       108725\n",
      "00050.jpg                                      2016-08-03 11:32:22       105580\n",
      "00051.jpg                                      2016-08-03 11:32:22       113092\n",
      "00052.jpg                                      2016-08-03 11:32:22       120010\n",
      "00053.jpg                                      2016-08-03 11:32:22       118655\n",
      "00054.jpg                                      2016-08-03 11:32:22       117915\n",
      "00055.jpg                                      2016-08-03 11:32:22       125353\n",
      "00056.jpg                                      2016-08-03 11:32:22       124169\n",
      "00057.jpg                                      2016-08-03 11:32:22       126362\n",
      "00058.jpg                                      2016-08-03 11:32:22       128977\n",
      "00059.jpg                                      2016-08-03 11:32:22       129077\n",
      "00060.jpg                                      2016-08-03 11:32:22       129925\n",
      "00061.jpg                                      2016-08-03 11:32:22       128142\n",
      "00062.jpg                                      2016-08-03 11:32:22       152152\n",
      "00063.jpg                                      2016-08-03 11:32:22       148519\n",
      "00064.jpg                                      2016-08-03 11:32:22       130608\n",
      "00065.jpg                                      2016-08-03 11:32:22       121928\n",
      "00066.jpg                                      2016-08-03 11:32:22       122873\n",
      "00067.jpg                                      2016-08-03 11:32:22       114028\n",
      "00068.jpg                                      2016-08-03 11:32:22       104749\n",
      "00069.jpg                                      2016-08-03 11:32:22       104987\n",
      "00070.jpg                                      2016-08-03 11:32:22       107651\n",
      "00071.jpg                                      2016-08-03 11:32:22       115968\n",
      "00072.jpg                                      2016-08-03 11:32:22       115793\n",
      "00073.jpg                                      2016-08-03 11:32:22       132691\n",
      "00074.jpg                                      2016-08-03 11:32:22       122791\n",
      "00075.jpg                                      2016-08-03 11:32:22       123913\n",
      "00076.jpg                                      2016-08-03 11:32:22       124244\n",
      "00077.jpg                                      2016-08-03 11:32:22       115312\n",
      "00078.jpg                                      2016-08-03 11:32:22       119906\n",
      "00079.jpg                                      2016-08-03 11:32:22       109998\n",
      "Extracting all the files now...\n",
      "Done!\n"
     ]
    }
   ],
   "source": [
    "# Input path for the image\n",
    "dir_path = SRCDIR + \"/input_0.zip\"\n",
    "\n",
    "with ZipFile(dir_path, 'r') as zip:\n",
    "    # printing all the contents of the zip file\n",
    "    zip.printdir()\n",
    "  \n",
    "    # extracting all the files\n",
    "    print('Extracting all the files now...')\n",
    "    zip.extractall()\n",
    "    print('Done!')\n",
    "    zip.infolist()\n",
    "    list_img_path = [info.filename for info in zip.infolist() if info.filename[-3:]==\"png\" or info.filename[-3:]==\"jpg\"]"
   ]
  },
  {
   "cell_type": "code",
   "execution_count": 4,
   "id": "b9b17b5a",
   "metadata": {},
   "outputs": [],
   "source": [
    "nb_images = len(list_img_path)"
   ]
  },
  {
   "cell_type": "code",
   "execution_count": 6,
   "id": "8f3abf65",
   "metadata": {},
   "outputs": [],
   "source": [
    "file = open(\"algo_info.txt\",\"w\")\n",
    "file.write(\"num_outputs=\"+ str(nb_images))\n",
    "file.close()"
   ]
  },
  {
   "cell_type": "code",
   "execution_count": null,
   "id": "4b6ab893",
   "metadata": {},
   "outputs": [],
   "source": [
    "#list_img_path = [\"input_\" + str(i) + \".png\"]\n",
    "#list_img_path = [SRCDIR + '/' + '0' * (5-len(str(i))) + str(i) + \".jpg\" for i in range(50)]"
   ]
  },
  {
   "cell_type": "code",
   "execution_count": null,
   "id": "8d37d8d1",
   "metadata": {},
   "outputs": [],
   "source": [
    "#print(\"imageio\", imageio.__version__)\n",
    "#print(\"numpy\", np.__version__)\n",
    "#print(\"skimage\", skimage.__version__)\n",
    "#print(\"scipy\", scipy.__version__)"
   ]
  },
  {
   "cell_type": "code",
   "execution_count": null,
   "id": "fee4f437",
   "metadata": {},
   "outputs": [],
   "source": [
    "def l1_norm(x):\n",
    "    return (np.abs(x)).sum()\n",
    "\n",
    "def roughness_index(img):\n",
    "    h1 = np.array([[1, -1]])\n",
    "    h2 = h1.T\n",
    "    img = np.squeeze(img)\n",
    "    if len(img.shape) == 2:\n",
    "        res = l1_norm(signal.fftconvolve(img, h1, mode='full'))\n",
    "        res += l1_norm(signal.fftconvolve(h2, img, mode='full'))\n",
    "        res = res / l1_norm(img)\n",
    "        return res\n",
    "    elif len(img.shape) == 3:\n",
    "        res = 0\n",
    "        for i in range(3):\n",
    "            res_ = l1_norm(signal.fftconvolve(img[i, :, :], h1, mode='full'))\n",
    "            res_ += l1_norm(signal.fftconvolve(h2, img[i, :, :], mode='full'))\n",
    "            res_ = res_ / l1_norm(img)\n",
    "            res += res_ / 3\n",
    "        return res\n",
    "    \n",
    "def psnr(img1, img2, max_value=1):\n",
    "    mse = ((img1 - img2) ** 2).mean()\n",
    "    return 10 * np.log10(max_value ** 2 / mse)\n",
    "\n",
    "def return_splatial_mean(img, size, C):\n",
    "    ones = np.ones_like(img)\n",
    "    spatial_mean = np.zeros_like(img)\n",
    "    kernel = np.ones((size, size))\n",
    "\n",
    "    for chanel_index in range(C):\n",
    "        convol_image = fftconvolve(img[chanel_index, :, :], kernel, mode=\"same\")\n",
    "        ns = fftconvolve(ones[chanel_index, :, :], kernel, mode=\"same\")\n",
    "        spatial_mean[chanel_index, :, :] = convol_image / ns\n",
    "\n",
    "    return spatial_mean"
   ]
  },
  {
   "cell_type": "code",
   "execution_count": null,
   "id": "9ea75de8",
   "metadata": {},
   "outputs": [],
   "source": [
    "def return_gaussian_noise(mean, noise_level, H, W, C=1):\n",
    "    \"\"\"\n",
    "    :param C: number of channels of the image we want to add noise\n",
    "    :param W: width of the image we want to add noise\n",
    "    :param H: height of the image we want to add noise\n",
    "    :param mean: mean of the noise we want to add\n",
    "    :param noise_level: standard deviation of the noise we want to add\n",
    "    :return:\n",
    "    \"\"\"\n",
    "    noise = np.random.normal(size=(H, W, C), loc=mean, scale=noise_level)\n",
    "    return noise\n",
    "\n",
    "\n",
    "def return_colum_row_noise(mean, noise_level, H, W, C=1, add=True):\n",
    "    \"\"\"\n",
    "    :param C: number of channels of the image we want to add noise\n",
    "    :param W: width of the image we want to add noise\n",
    "    :param H: height of the image we want to add noise\n",
    "    :param mean: mean of the noise we want to add\n",
    "    :param noise_level: standard deviation of the noise we want to add\n",
    "    :return:\n",
    "    \"\"\"\n",
    "    noise = np.zeros((H, W, C))\n",
    "    for i in range(C):\n",
    "        noise_column = np.random.normal(size=(H, 1), loc=mean, scale=noise_level) @ np.ones((1, W))\n",
    "        noise_row = np.ones((H, 1)) @ np.random.normal(size=(1, W), loc=mean, scale=noise_level)\n",
    "        if add:\n",
    "            noise[:, :, i] = noise_row + noise_column\n",
    "        else:\n",
    "            noise[:, :, i] = noise_row * noise_column\n",
    "    return noise"
   ]
  },
  {
   "cell_type": "code",
   "execution_count": null,
   "id": "fdf37813",
   "metadata": {},
   "outputs": [],
   "source": [
    "img = imageio.imread(list_img_path[0])\n",
    "img_shape = img.shape\n",
    "if len(img_shape) == 3:\n",
    "    H, W, C = img_shape\n",
    "elif len(img_shape) == 2:\n",
    "    H, W = img_shape\n",
    "    C = 1\n",
    "data_type = img.dtype"
   ]
  },
  {
   "cell_type": "code",
   "execution_count": null,
   "id": "ee0b4c59",
   "metadata": {},
   "outputs": [],
   "source": [
    "imgs = []\n",
    "for i in range(nb_images):\n",
    "    img = imageio.imread(list_img_path[i])\n",
    "    imgs.append(img)"
   ]
  },
  {
   "cell_type": "code",
   "execution_count": null,
   "id": "6918aa7b",
   "metadata": {},
   "outputs": [],
   "source": [
    "noise = np.zeros((H, W, C))\n",
    "noise_signal = np.ones((H, W, C))\n",
    "\n",
    "unstructured_noise_offset = return_gaussian_noise(0, NOISE_LEVEL, H=H, W=W, C=C)\n",
    "structured_noise_offset = return_colum_row_noise(0, NOISE_LEVEL, H=H, W=W, C=C)\n",
    "\n",
    "unstructured_noise_signal = return_gaussian_noise(1, NOISE_LEVEL_SIGNAL, H=H, W=W, C=C)\n",
    "structured_noise_signal = return_colum_row_noise(1, NOISE_LEVEL_SIGNAL, H=H, W=W, C=C, add=False)\n",
    "\n",
    "if noise_type_structured:\n",
    "    noise += structured_noise_offset\n",
    "if noise_type_unstructured:\n",
    "    noise += unstructured_noise_offset\n",
    "if noise_type_structured_signal:\n",
    "    noise_signal *= structured_noise_signal\n",
    "if noise_type_unstructured_signal:\n",
    "    noise_signal *= unstructured_noise_signal"
   ]
  },
  {
   "cell_type": "code",
   "execution_count": null,
   "id": "e58088b4",
   "metadata": {},
   "outputs": [],
   "source": [
    "# gain correction\n",
    "G = 1.0\n",
    "# offset correction\n",
    "O = np.zeros((H, W, C))"
   ]
  },
  {
   "cell_type": "code",
   "execution_count": null,
   "id": "0b524e33",
   "metadata": {},
   "outputs": [],
   "source": [
    "loss_mse_hist = []\n",
    "psnr_hist = []\n",
    "psnr_noisy = []\n",
    "roughness_denoised = []\n",
    "roughness_noisy = []\n",
    "roughness_clean = []"
   ]
  },
  {
   "cell_type": "code",
   "execution_count": null,
   "id": "5f56a68c",
   "metadata": {},
   "outputs": [],
   "source": [
    "for index_image in range(nb_images):\n",
    "    img = imgs[index_image]\n",
    "    io.imsave(\"input_\" + str(index_image) + '.png', img.astype(data_type))\n",
    "    img = np.array(img, dtype=float)\n",
    "    if C > 1:\n",
    "        img = img\n",
    "    elif C == 1:\n",
    "        img = img[None, :, :]\n",
    "    if add_noise:\n",
    "        noisy_img = img * noise_signal + noise\n",
    "        noisy_img = noisy_img.round()\n",
    "        noisy_img[noisy_img < 0] = 0\n",
    "        noisy_img[noisy_img > DATA_RANGE] = DATA_RANGE\n",
    "        io.imsave(\"noisy_\" + str(index_image) + '.png', noisy_img.astype(data_type))\n",
    "    else:\n",
    "        noisy_img = img\n",
    "\n",
    "    if add_noise:\n",
    "        img = imgs[index_image]\n",
    "        img = img\n",
    "\n",
    "    # denoise image\n",
    "    y = (G * noisy_img - O)\n",
    "    y = y.round()\n",
    "    y[y < 0] = 0\n",
    "    y[y > DATA_RANGE] = DATA_RANGE\n",
    "\n",
    "    if add_noise:\n",
    "        psnr_hist.append(psnr(y, img, max_value=DATA_RANGE))\n",
    "        psnr_noisy.append(psnr(noisy_img, img, max_value=DATA_RANGE))\n",
    "        roughness_clean.append(roughness_index(img))\n",
    "\n",
    "\n",
    "    roughness_noisy.append(roughness_index(noisy_img))\n",
    "    roughness_denoised.append(roughness_index(y))\n",
    "    \n",
    "    if kernel == None or kernel == \"None\" or kernel == \"none\":\n",
    "        Y_HSF = noisy_img\n",
    "    elif kernel == \"mean\":\n",
    "        y_LSF = return_splatial_mean(noisy_img, SIZE, C)\n",
    "        y_HSF = noisy_img - y_LSF\n",
    "        Y_HSF = y_HSF.copy()\n",
    "        Y_HSF[np.abs(y_HSF) > THRES] = 0\n",
    "    elif kernel == \"bilateral\":\n",
    "        y_LSF = skimage.restoration.denoise_bilateral(noisy_img, SIZE, 75, 75, channel_axis=2)\n",
    "        Y_HSF = noisy_img - y_LSF\n",
    "\n",
    "    # TODO update gain and offset correction parameters\n",
    "    G = 1.0\n",
    "    O = 1 / M * Y_HSF + (1 - 1 / M) * O\n",
    "\n",
    "    # save denoised image\n",
    "    y = y.astype(data_type)\n",
    "    io.imsave(\"output_\" + str(index_image) + '.png', y)"
   ]
  },
  {
   "cell_type": "markdown",
   "id": "d993d0e2",
   "metadata": {},
   "source": [
    "::: {.panel-tabset}\n",
    "\n",
    "### Input image"
   ]
  },
  {
   "cell_type": "code",
   "execution_count": null,
   "id": "a7cb5b1d",
   "metadata": {},
   "outputs": [],
   "source": [
    "for i in range(nb_images):\n",
    "    print(\"roughness\", roughness_clean[i])\n",
    "    print(\"PSNR\", 100)\n",
    "    display(Image(\"input_\" + str(i) + \".png\"))"
   ]
  },
  {
   "cell_type": "markdown",
   "id": "83e8f83a",
   "metadata": {},
   "source": [
    "### Noisy image"
   ]
  },
  {
   "cell_type": "code",
   "execution_count": null,
   "id": "06527ee8",
   "metadata": {},
   "outputs": [],
   "source": [
    "for i in range(nb_images):\n",
    "    print(\"roughness\", roughness_noisy[i])\n",
    "    print(\"PSNR\", psnr_noisy[i])\n",
    "    display(Image(\"noisy_\" + str(i) + \".png\"))"
   ]
  },
  {
   "cell_type": "markdown",
   "id": "d6f00b87",
   "metadata": {},
   "source": [
    "### Output image"
   ]
  },
  {
   "cell_type": "code",
   "execution_count": null,
   "id": "d6c2f033",
   "metadata": {},
   "outputs": [],
   "source": [
    "for i in range(nb_images):\n",
    "    print(\"roughness\", roughness_denoised[i])\n",
    "    print(\"PSNR\", psnr_hist[i])\n",
    "    display(Image(\"output_\" + str(i) + \".png\"))"
   ]
  },
  {
   "cell_type": "markdown",
   "id": "6620ab75",
   "metadata": {},
   "source": [
    ":::"
   ]
  }
 ],
 "metadata": {
  "celltoolbar": "Tags",
  "kernelspec": {
   "display_name": "Python 3 (ipykernel)",
   "language": "python",
   "name": "python3"
  },
  "language_info": {
   "codemirror_mode": {
    "name": "ipython",
    "version": 3
   },
   "file_extension": ".py",
   "mimetype": "text/x-python",
   "name": "python",
   "nbconvert_exporter": "python",
   "pygments_lexer": "ipython3",
   "version": "3.8.12"
  }
 },
 "nbformat": 4,
 "nbformat_minor": 5
}
